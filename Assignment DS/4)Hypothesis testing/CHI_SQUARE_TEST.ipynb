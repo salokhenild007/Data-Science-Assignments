{
  "nbformat": 4,
  "nbformat_minor": 0,
  "metadata": {
    "colab": {
      "provenance": []
    },
    "kernelspec": {
      "name": "python3",
      "display_name": "Python 3"
    },
    "language_info": {
      "name": "python"
    }
  },
  "cells": [
    {
      "cell_type": "markdown",
      "source": [
        "**CHI-SQUARE TEST**"
      ],
      "metadata": {
        "id": "1lPzv8Xaeo7u"
      }
    },
    {
      "cell_type": "markdown",
      "source": [
        "**Objective:**\n",
        "To use the Chi-Square test for independence to determine if there's a significant association between the type of smart home device purchased (Smart Thermostats vs. Smart Lights) and the customer satisfaction level.\n"
      ],
      "metadata": {
        "id": "iMI4oSaUe43O"
      }
    },
    {
      "cell_type": "markdown",
      "source": [
        "**Assignment Task**"
      ],
      "metadata": {
        "id": "Fc1AD5WEDFbv"
      }
    },
    {
      "cell_type": "markdown",
      "source": [
        "**1. State the Hypotheses:**\n",
        "\n",
        "Hypothesis is assumption without experimental evidence.\n",
        "\n",
        "1.**Null Hypothesis** = There is no significant relationship between device type and satisfaction level.\n",
        "\n",
        "2.**Alternate Hypothesis** = There is a significant relationship between device type and satisfaction level."
      ],
      "metadata": {
        "id": "EmnWrkFsBxyN"
      }
    },
    {
      "cell_type": "markdown",
      "source": [
        "**2. Compute the Chi-Square Statistic:**"
      ],
      "metadata": {
        "id": "Ce9FRZG-BUXn"
      }
    },
    {
      "cell_type": "code",
      "execution_count": 8,
      "metadata": {
        "id": "8z7AaVUMdhy3"
      },
      "outputs": [],
      "source": [
        "import scipy.stats as stats\n",
        "import numpy as np"
      ]
    },
    {
      "cell_type": "code",
      "source": [
        "# Observed data (contingency table)\n",
        "data = np.array([\n",
        "    [50, 70],   # Very Satisfied\n",
        "    [80, 100],  # Satisfied\n",
        "    [60, 90],   # Neutral\n",
        "    [30, 50],   # Unsatisfied\n",
        "    [20, 50]    # Very Unsatisfied\n",
        "])"
      ],
      "metadata": {
        "id": "hhdUTKlP_J9L"
      },
      "execution_count": 10,
      "outputs": []
    },
    {
      "cell_type": "code",
      "source": [
        "# Perform the chi-square test\n",
        "stat, p, dof, expected = stats.chi2_contingency(data)\n",
        "print( dof)\n",
        "print(p)"
      ],
      "metadata": {
        "colab": {
          "base_uri": "https://localhost:8080/"
        },
        "id": "JiZCmQNn_RMe",
        "outputId": "dc4d5087-b49d-4d23-b05a-ee594f69830b"
      },
      "execution_count": 11,
      "outputs": [
        {
          "output_type": "stream",
          "name": "stdout",
          "text": [
            "4\n",
            "0.22784371130697179\n"
          ]
        }
      ]
    },
    {
      "cell_type": "code",
      "source": [
        "expected\n"
      ],
      "metadata": {
        "colab": {
          "base_uri": "https://localhost:8080/"
        },
        "id": "2S5yU3Ba_TZK",
        "outputId": "9ed4f397-2f69-4024-d36e-41488a06baaf"
      },
      "execution_count": 12,
      "outputs": [
        {
          "output_type": "execute_result",
          "data": {
            "text/plain": [
              "array([[ 48.,  72.],\n",
              "       [ 72., 108.],\n",
              "       [ 60.,  90.],\n",
              "       [ 32.,  48.],\n",
              "       [ 28.,  42.]])"
            ]
          },
          "metadata": {},
          "execution_count": 12
        }
      ]
    },
    {
      "cell_type": "markdown",
      "source": [
        "**3. Determine the Critical Value:** Using the significance level (alpha) of 0.05 and the degrees of freedom"
      ],
      "metadata": {
        "id": "mH86NeHpBb75"
      }
    },
    {
      "cell_type": "code",
      "source": [
        "# interpret p-value\n",
        "alpha = 0.05\n",
        "print('significance=%.3f, p=%.3f' % (alpha, p))"
      ],
      "metadata": {
        "colab": {
          "base_uri": "https://localhost:8080/"
        },
        "id": "0EtY9rG9_YMP",
        "outputId": "10841f8b-8fb6-42c1-9189-b95f69d8328e"
      },
      "execution_count": 13,
      "outputs": [
        {
          "output_type": "stream",
          "name": "stdout",
          "text": [
            "significance=0.050, p=0.228\n"
          ]
        }
      ]
    },
    {
      "cell_type": "markdown",
      "source": [
        "**4. Make a Decision:** Compare the Chi-Square statistic with the critical value to decide whether to reject the null hypothesis."
      ],
      "metadata": {
        "id": "_4Afh4GABh4G"
      }
    },
    {
      "cell_type": "code",
      "source": [
        "if p <= alpha:\n",
        "    print('Reject Null Hypothesis - There is a significant association between device type and satisfaction level.')\n",
        "else:\n",
        "    print('Fail to Reject Null Hypothesis - There is no significant association between device type and satisfaction level.')"
      ],
      "metadata": {
        "colab": {
          "base_uri": "https://localhost:8080/"
        },
        "id": "RYKnz7YlBjU6",
        "outputId": "a4b877c8-64ea-40a0-812c-32b4f4499569"
      },
      "execution_count": 14,
      "outputs": [
        {
          "output_type": "stream",
          "name": "stdout",
          "text": [
            "Fail to Reject Null Hypothesis - There is no significant association between device type and satisfaction level.\n"
          ]
        }
      ]
    }
  ]
}