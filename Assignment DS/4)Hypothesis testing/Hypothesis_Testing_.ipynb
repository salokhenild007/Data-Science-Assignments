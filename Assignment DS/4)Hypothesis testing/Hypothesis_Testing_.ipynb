{
  "nbformat": 4,
  "nbformat_minor": 0,
  "metadata": {
    "colab": {
      "provenance": []
    },
    "kernelspec": {
      "name": "python3",
      "display_name": "Python 3"
    },
    "language_info": {
      "name": "python"
    }
  },
  "cells": [
    {
      "cell_type": "markdown",
      "source": [
        "**HYPOTHESIS TESTING**"
      ],
      "metadata": {
        "id": "mrkMdoMMJDqN"
      }
    },
    {
      "cell_type": "markdown",
      "source": [
        "**Objective:** = To investigate the restaurant owners' claim about the increase in weekly operating costs using hypothesis testing.\n"
      ],
      "metadata": {
        "id": "RIVZjfc-JJ_W"
      }
    },
    {
      "cell_type": "markdown",
      "source": [
        "**Data Provided:**\n",
        "\n",
        "•\tThe theoretical weekly operating cost model: W = $1,000 + $5X.\n",
        "\n",
        "•Sample of 25 restaurants with a mean weekly cost of Rs. 3,050.\n",
        "\n",
        "•Number of units produced in a week (X) follows a normal distribution with a mean (μ) of 600 units and a standard deviation (σ) of 25 units\n",
        "\n"
      ],
      "metadata": {
        "id": "3i3-eiVzJR92"
      }
    },
    {
      "cell_type": "markdown",
      "source": [
        "**Assignment Tasks:**\n",
        "\n",
        "\n",
        "**1. State the Hypotheses statement:**\n",
        "\n",
        "Alternate Hypothesis There is a significant relationship between device type and satisfaction level.\n"
      ],
      "metadata": {
        "id": "rl-mKg0_Jn-I"
      }
    },
    {
      "cell_type": "markdown",
      "source": [
        "**2. Calculate the Test Statistic:**"
      ],
      "metadata": {
        "id": "HvNgMlZcJzPE"
      }
    },
    {
      "cell_type": "code",
      "source": [
        "#Calculate the Test Statistic:\n",
        "\n",
        "sample_mean = 3050 #Get the from given file\n",
        "x = 600\n",
        "population_mean = 1000+5*x\n",
        "std_deviation = 5*25\n",
        "sample_size = 25"
      ],
      "metadata": {
        "id": "e_D_V8XlKRHR"
      },
      "execution_count": 5,
      "outputs": []
    },
    {
      "cell_type": "code",
      "source": [
        "# Calculate the test statistic\n",
        "import math\n",
        "t_statistic = (sample_mean - population_mean) / (std_deviation / math.sqrt(sample_size))\n",
        "t_statistic"
      ],
      "metadata": {
        "colab": {
          "base_uri": "https://localhost:8080/"
        },
        "id": "1Y2eI5IZKHdO",
        "outputId": "115b4e85-1e04-4357-8620-90fdce3e032f"
      },
      "execution_count": 6,
      "outputs": [
        {
          "output_type": "execute_result",
          "data": {
            "text/plain": [
              "-38.0"
            ]
          },
          "metadata": {},
          "execution_count": 6
        }
      ]
    },
    {
      "cell_type": "markdown",
      "source": [
        "**3. Determine the Critical Value:**"
      ],
      "metadata": {
        "id": "EJNzTzKHKW4B"
      }
    },
    {
      "cell_type": "code",
      "source": [
        "from scipy.stats import norm\n",
        "critical_value = norm.ppf(1-0.05) #Taken critical value\n",
        "print(critical_value)"
      ],
      "metadata": {
        "colab": {
          "base_uri": "https://localhost:8080/"
        },
        "id": "EQdyycfmKenu",
        "outputId": "b514b822-2867-4860-d4af-b2e7c79e479e"
      },
      "execution_count": 10,
      "outputs": [
        {
          "output_type": "stream",
          "name": "stdout",
          "text": [
            "1.6448536269514722\n"
          ]
        }
      ]
    },
    {
      "cell_type": "markdown",
      "source": [
        "**4. Make a Decision:**"
      ],
      "metadata": {
        "id": "7E2dLx4XK_yJ"
      }
    },
    {
      "cell_type": "code",
      "source": [
        "#Make a Decision:\n",
        "if t_statistic > critical_value: #Checking we want to accept null hypothesis or not\n",
        "    print(\"Reject the Null Hypothesis\")\n",
        "else:\n",
        "    print(\"Accept Null Hypothesis\")\n",
        "#The calculated test statistic is -38, which is far below any reasonable rejection region. since −38 is less than Critical value i.e 1.645.\n",
        "#we fail to reject the null hypothesis."
      ],
      "metadata": {
        "colab": {
          "base_uri": "https://localhost:8080/"
        },
        "id": "Rlw3HxojK8lY",
        "outputId": "f2fb4fea-8730-4684-fc52-956d8f4bd804"
      },
      "execution_count": 12,
      "outputs": [
        {
          "output_type": "stream",
          "name": "stdout",
          "text": [
            "Accept Null Hypothesis\n"
          ]
        }
      ]
    },
    {
      "cell_type": "markdown",
      "source": [
        "**5. Conclusion:**"
      ],
      "metadata": {
        "id": "NlVpczlvL2aY"
      }
    },
    {
      "cell_type": "markdown",
      "source": [
        "Since we did not reject the null hypothesis, there is no strong evidence to support the restaurant owners' claim that the weekly operating costs are higher than the model suggests. In fact, the observed costs are much lower, which contradicts their claim."
      ],
      "metadata": {
        "id": "Np9uDCXPMwez"
      }
    }
  ]
}