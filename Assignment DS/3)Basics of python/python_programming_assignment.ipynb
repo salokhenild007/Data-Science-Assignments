{
  "nbformat": 4,
  "nbformat_minor": 0,
  "metadata": {
    "colab": {
      "provenance": []
    },
    "kernelspec": {
      "name": "python3",
      "display_name": "Python 3"
    },
    "language_info": {
      "name": "python"
    }
  },
  "cells": [
    {
      "cell_type": "markdown",
      "source": [
        "Exercise 1: Prime Numbers"
      ],
      "metadata": {
        "id": "ibYwk4MdmOJe"
      }
    },
    {
      "cell_type": "code",
      "execution_count": 2,
      "metadata": {
        "id": "Cz5ld3VZl9pK"
      },
      "outputs": [],
      "source": [
        "#Write a Python program that checks whether a given number is prime or not.(A prime number is a natural number greater than 1 that has no positive divisors other than 1 and itself.)"
      ]
    },
    {
      "cell_type": "code",
      "source": [
        "# Get user input\n",
        "num = int(input(\"Enter a number: \"))\n",
        "\n",
        "# Check if prime\n",
        "if is_prime(num):\n",
        "    print(f\"{num} is a prime number.\")\n",
        "else:\n",
        "    print(f\"{num} is not a prime number.\")\n",
        "\n"
      ],
      "metadata": {
        "colab": {
          "base_uri": "https://localhost:8080/"
        },
        "id": "TLT9ibNqny1U",
        "outputId": "1ae8790a-15aa-4469-d1a1-224906cd5d15"
      },
      "execution_count": 7,
      "outputs": [
        {
          "output_type": "stream",
          "name": "stdout",
          "text": [
            "Enter a number: 5\n",
            "5 is a prime number.\n"
          ]
        }
      ]
    },
    {
      "cell_type": "markdown",
      "source": [
        "**Exercise 2: Product of Random Numbers**"
      ],
      "metadata": {
        "id": "HTFkg8Ofo52G"
      }
    },
    {
      "cell_type": "code",
      "source": [
        "#Develop a Python program that generates two random numbers and asks the user to enter the product of these numbers. The program should then check if the user's answer is correct and display an appropriate message."
      ],
      "metadata": {
        "id": "PRiaI_3FpMju"
      },
      "execution_count": null,
      "outputs": []
    },
    {
      "cell_type": "code",
      "source": [
        "import random #random module in python generate random numbers\n",
        "\n",
        "# Generate two random numbers\n",
        "num1 = random.randint(1, 10)\n",
        "num2 = random.randint(1, 10)\n",
        "\n",
        "# Ask Question\n",
        "user_answer = int(input(f\"What is {num1} × {num2}? \"))\n",
        "\n",
        "# Check the answer\n",
        "correct_answer = num1 * num2\n",
        "\n",
        "if user_answer == correct_answer:\n",
        "    print(\"Correct! Well done.\")\n",
        "else:\n",
        "    print(f\"Incorrect. The correct answer is {correct_answer}.\") #here f allow you to directly embed variables inside a string.\n",
        ""
      ],
      "metadata": {
        "colab": {
          "base_uri": "https://localhost:8080/"
        },
        "id": "r5C7J4F1oz5b",
        "outputId": "82da05c2-1270-478e-b8a6-3d363e1d604a"
      },
      "execution_count": 14,
      "outputs": [
        {
          "output_type": "stream",
          "name": "stdout",
          "text": [
            "What is 2 × 4? 9\n",
            "Incorrect. The correct answer is 8.\n"
          ]
        }
      ]
    },
    {
      "cell_type": "markdown",
      "source": [
        "**Exercise 3: Squares of Even/Odd Numbers**"
      ],
      "metadata": {
        "id": "HGxjBqd_qND3"
      }
    },
    {
      "cell_type": "code",
      "source": [
        "#Create a Python script that prints the squares of all even or odd numbers within the range of 100 to 200.\n",
        "#Choose either even or odd numbers and document your choice in the code."
      ],
      "metadata": {
        "id": "hXvCvyp4pmhB"
      },
      "execution_count": null,
      "outputs": []
    },
    {
      "cell_type": "code",
      "source": [
        "#For squares of all even numbers in the range 100 to 200.\n",
        "\n",
        "for num in range(100, 201):  # Loop from 100 to 200\n",
        "    if num % 2 == 0:  # Check if the number is even\n",
        "        print(f\"Square of e {num} is {num ** 2}\")"
      ],
      "metadata": {
        "colab": {
          "base_uri": "https://localhost:8080/"
        },
        "id": "Q0v5G3QyrVYs",
        "outputId": "39d111a6-b447-44f0-a58c-d9ae1f3de210"
      },
      "execution_count": 28,
      "outputs": [
        {
          "output_type": "stream",
          "name": "stdout",
          "text": [
            "Square of e 100 is 10000\n",
            "Square of e 102 is 10404\n",
            "Square of e 104 is 10816\n",
            "Square of e 106 is 11236\n",
            "Square of e 108 is 11664\n",
            "Square of e 110 is 12100\n",
            "Square of e 112 is 12544\n",
            "Square of e 114 is 12996\n",
            "Square of e 116 is 13456\n",
            "Square of e 118 is 13924\n",
            "Square of e 120 is 14400\n",
            "Square of e 122 is 14884\n",
            "Square of e 124 is 15376\n",
            "Square of e 126 is 15876\n",
            "Square of e 128 is 16384\n",
            "Square of e 130 is 16900\n",
            "Square of e 132 is 17424\n",
            "Square of e 134 is 17956\n",
            "Square of e 136 is 18496\n",
            "Square of e 138 is 19044\n",
            "Square of e 140 is 19600\n",
            "Square of e 142 is 20164\n",
            "Square of e 144 is 20736\n",
            "Square of e 146 is 21316\n",
            "Square of e 148 is 21904\n",
            "Square of e 150 is 22500\n",
            "Square of e 152 is 23104\n",
            "Square of e 154 is 23716\n",
            "Square of e 156 is 24336\n",
            "Square of e 158 is 24964\n",
            "Square of e 160 is 25600\n",
            "Square of e 162 is 26244\n",
            "Square of e 164 is 26896\n",
            "Square of e 166 is 27556\n",
            "Square of e 168 is 28224\n",
            "Square of e 170 is 28900\n",
            "Square of e 172 is 29584\n",
            "Square of e 174 is 30276\n",
            "Square of e 176 is 30976\n",
            "Square of e 178 is 31684\n",
            "Square of e 180 is 32400\n",
            "Square of e 182 is 33124\n",
            "Square of e 184 is 33856\n",
            "Square of e 186 is 34596\n",
            "Square of e 188 is 35344\n",
            "Square of e 190 is 36100\n",
            "Square of e 192 is 36864\n",
            "Square of e 194 is 37636\n",
            "Square of e 196 is 38416\n",
            "Square of e 198 is 39204\n",
            "Square of e 200 is 40000\n"
          ]
        }
      ]
    },
    {
      "cell_type": "code",
      "source": [
        "# This script prints the squares of all odd numbers in the range 100 to 200.\n",
        "\n",
        "for num in range(100, 201):  # Loop from 100 to 200 (inclusive)\n",
        "    if num % 2 != 0:  # Check if the number is odd\n",
        "        print(f\"Square of odd number {num} is {num ** 2}\")"
      ],
      "metadata": {
        "colab": {
          "base_uri": "https://localhost:8080/"
        },
        "id": "CNEsvHdgrrbV",
        "outputId": "cd4aa60d-27b7-44ed-c065-293a84b53604"
      },
      "execution_count": 18,
      "outputs": [
        {
          "output_type": "stream",
          "name": "stdout",
          "text": [
            "Square of odd number 101 is 10201\n",
            "Square of odd number 103 is 10609\n",
            "Square of odd number 105 is 11025\n",
            "Square of odd number 107 is 11449\n",
            "Square of odd number 109 is 11881\n",
            "Square of odd number 111 is 12321\n",
            "Square of odd number 113 is 12769\n",
            "Square of odd number 115 is 13225\n",
            "Square of odd number 117 is 13689\n",
            "Square of odd number 119 is 14161\n",
            "Square of odd number 121 is 14641\n",
            "Square of odd number 123 is 15129\n",
            "Square of odd number 125 is 15625\n",
            "Square of odd number 127 is 16129\n",
            "Square of odd number 129 is 16641\n",
            "Square of odd number 131 is 17161\n",
            "Square of odd number 133 is 17689\n",
            "Square of odd number 135 is 18225\n",
            "Square of odd number 137 is 18769\n",
            "Square of odd number 139 is 19321\n",
            "Square of odd number 141 is 19881\n",
            "Square of odd number 143 is 20449\n",
            "Square of odd number 145 is 21025\n",
            "Square of odd number 147 is 21609\n",
            "Square of odd number 149 is 22201\n",
            "Square of odd number 151 is 22801\n",
            "Square of odd number 153 is 23409\n",
            "Square of odd number 155 is 24025\n",
            "Square of odd number 157 is 24649\n",
            "Square of odd number 159 is 25281\n",
            "Square of odd number 161 is 25921\n",
            "Square of odd number 163 is 26569\n",
            "Square of odd number 165 is 27225\n",
            "Square of odd number 167 is 27889\n",
            "Square of odd number 169 is 28561\n",
            "Square of odd number 171 is 29241\n",
            "Square of odd number 173 is 29929\n",
            "Square of odd number 175 is 30625\n",
            "Square of odd number 177 is 31329\n",
            "Square of odd number 179 is 32041\n",
            "Square of odd number 181 is 32761\n",
            "Square of odd number 183 is 33489\n",
            "Square of odd number 185 is 34225\n",
            "Square of odd number 187 is 34969\n",
            "Square of odd number 189 is 35721\n",
            "Square of odd number 191 is 36481\n",
            "Square of odd number 193 is 37249\n",
            "Square of odd number 195 is 38025\n",
            "Square of odd number 197 is 38809\n",
            "Square of odd number 199 is 39601\n"
          ]
        }
      ]
    },
    {
      "cell_type": "markdown",
      "source": [
        "**Exercise 4: Word counter**"
      ],
      "metadata": {
        "id": "Lk_rGMYNsNBS"
      }
    },
    {
      "cell_type": "code",
      "source": [
        "#write a program to count the number of words in a given text."
      ],
      "metadata": {
        "id": "WAR9cqS5sRfP"
      },
      "execution_count": null,
      "outputs": []
    },
    {
      "cell_type": "code",
      "source": [
        "import re\n",
        "from collections import Counter\n",
        "\n",
        "# Input text\n",
        "input_text = \"This is a sample text. This text will be used to demonstrate the word counter.\"\n",
        "\n",
        "# Remove punctuation and convert to lowercase\n",
        "cleaned_text = re.sub(r'[^\\w\\s]', '', input_text.lower())\n",
        "\n",
        "# Split text into words\n",
        "words = cleaned_text.split()\n",
        "\n",
        "# Count word occurrences\n",
        "word_count = Counter(words)\n",
        "\n",
        "# Print word counts\n",
        "for word, count in word_count.items():\n",
        "    print(f\"'{word}': {count}\")\n"
      ],
      "metadata": {
        "colab": {
          "base_uri": "https://localhost:8080/"
        },
        "id": "Ety2eY2vsgzA",
        "outputId": "86f2f622-6491-4051-b2c2-2327ed5dc021"
      },
      "execution_count": 30,
      "outputs": [
        {
          "output_type": "stream",
          "name": "stdout",
          "text": [
            "'this': 2\n",
            "'is': 1\n",
            "'a': 1\n",
            "'sample': 1\n",
            "'text': 2\n",
            "'will': 1\n",
            "'be': 1\n",
            "'used': 1\n",
            "'to': 1\n",
            "'demonstrate': 1\n",
            "'the': 1\n",
            "'word': 1\n",
            "'counter': 1\n"
          ]
        }
      ]
    },
    {
      "cell_type": "code",
      "source": [],
      "metadata": {
        "id": "5t94ZNtz6Ecb"
      },
      "execution_count": null,
      "outputs": []
    },
    {
      "cell_type": "markdown",
      "source": [
        "**Exercise 5: Check for Palindrome**"
      ],
      "metadata": {
        "id": "RlFKymiT5e5W"
      }
    },
    {
      "cell_type": "code",
      "source": [
        "#Write a Python function called is_palindrome that takes a string as input and returns True if the string is a palindrome, and False otherwise.\n",
        "#A palindrome is a word, phrase, number, or other sequence of characters that reads the same forward and backward, ignoring spaces, punctuation, and capitalization"
      ],
      "metadata": {
        "id": "ndj6yIgi3y6z"
      },
      "execution_count": 31,
      "outputs": []
    },
    {
      "cell_type": "code",
      "source": [
        "x = input(\" Enter your Word or Number  \");\n",
        "y=x[-1::-1] #used to reverse a string (sequence[start:stop:step])\n",
        "if(x==y):\n",
        "    print(\"Is a palindrome \");\n",
        "else:\n",
        "    print(\"Not a palindrome \");"
      ],
      "metadata": {
        "colab": {
          "base_uri": "https://localhost:8080/"
        },
        "id": "awAeW8_P5r3Y",
        "outputId": "cecf3b31-1555-45ed-90a0-b26f55f7969f"
      },
      "execution_count": 41,
      "outputs": [
        {
          "output_type": "stream",
          "name": "stdout",
          "text": [
            " Enter your Word or Number  989\n",
            "Is a palindrome \n"
          ]
        }
      ]
    },
    {
      "cell_type": "code",
      "source": [],
      "metadata": {
        "id": "eUjZLSic59It"
      },
      "execution_count": null,
      "outputs": []
    }
  ]
}