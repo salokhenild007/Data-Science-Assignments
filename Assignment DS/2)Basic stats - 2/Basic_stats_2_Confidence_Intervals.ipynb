{
  "nbformat": 4,
  "nbformat_minor": 0,
  "metadata": {
    "colab": {
      "provenance": []
    },
    "kernelspec": {
      "name": "python3",
      "display_name": "Python 3"
    },
    "language_info": {
      "name": "python"
    }
  },
  "cells": [
    {
      "cell_type": "markdown",
      "source": [
        "**Confidence Interval**"
      ],
      "metadata": {
        "id": "9tmza6jVjSqO"
      }
    },
    {
      "cell_type": "markdown",
      "source": [
        "**Background**\n",
        "In quality control processes, especially when dealing with high-value items, destructive sampling is a necessary but costly method to ensure product quality. The test to determine whether an item meets the quality standards destroys the item, leading to the requirement of small sample sizes due to cost constraints.\n",
        "\n",
        "\n",
        "**Scenario**\n",
        "A manufacturer of print-heads for personal computers is interested in estimating the mean durability of their print-heads in terms of the number of characters printed before failure. To assess this, the manufacturer conducts a study on a small sample of print-heads due to the destructive nature of the testing process.\n",
        "\n",
        "\n",
        "**Data**\n",
        "A total of 15 print-heads were randomly selected and tested until failure. The durability of each print-head (in millions of characters) was recorded as follows:\n",
        "1.13, 1.55, 1.43, 0.92, 1.25, 1.36, 1.32, 0.85, 1.07, 1.48, 1.20, 1.33, 1.18, 1.22, 1.29\n"
      ],
      "metadata": {
        "id": "2tyhlPhfjeb_"
      }
    },
    {
      "cell_type": "markdown",
      "source": [
        "**Assignment Tasks**\n",
        "A. Build 99% Confidence Interval Using Sample Standard Deviation\n"
      ],
      "metadata": {
        "id": "1usl6oQ5jp1j"
      }
    },
    {
      "cell_type": "code",
      "execution_count": 1,
      "metadata": {
        "id": "e4IdbUugi_G9"
      },
      "outputs": [],
      "source": [
        "from scipy import stats\n",
        "import numpy as np\n",
        "import pandas as pd"
      ]
    },
    {
      "cell_type": "code",
      "source": [
        "data = [1.13, 1.55, 1.43, 0.92, 1.25, 1.36, 1.32, 0.85, 1.07, 1.48, 1.20, 1.33, 1.18, 1.22, 1.29]\n",
        "confidence_level = 0.99"
      ],
      "metadata": {
        "id": "QjFQoddKjzBc"
      },
      "execution_count": 8,
      "outputs": []
    },
    {
      "cell_type": "code",
      "source": [
        "# Sample size\n",
        "n = len(data)\n",
        "print(n)\n",
        "# Degrees of freedom\n",
        "df = n - 1\n",
        "print(df)"
      ],
      "metadata": {
        "colab": {
          "base_uri": "https://localhost:8080/"
        },
        "id": "4x1NSoAAj2FE",
        "outputId": "248e9457-c59b-4dde-ca09-ba309337d362"
      },
      "execution_count": 3,
      "outputs": [
        {
          "output_type": "stream",
          "name": "stdout",
          "text": [
            "15\n",
            "14\n"
          ]
        }
      ]
    },
    {
      "cell_type": "code",
      "source": [
        "# mean\n",
        "mean = np.mean(data)\n",
        "print(mean)"
      ],
      "metadata": {
        "colab": {
          "base_uri": "https://localhost:8080/"
        },
        "id": "sbx0QFMXj6U9",
        "outputId": "debdcb96-0e2d-4ca0-c310-0d40b2ccc0b1"
      },
      "execution_count": 4,
      "outputs": [
        {
          "output_type": "stream",
          "name": "stdout",
          "text": [
            "1.2386666666666666\n"
          ]
        }
      ]
    },
    {
      "cell_type": "code",
      "source": [
        "# standard error\n",
        "std_dev = np.std(data, ddof=1)\n",
        "standard_error = std_dev / np.sqrt(n)\n",
        "print(standard_error)"
      ],
      "metadata": {
        "colab": {
          "base_uri": "https://localhost:8080/"
        },
        "id": "5G_IouMFj8nd",
        "outputId": "0609b6f8-f34a-4008-b116-430bfcfda1a0"
      },
      "execution_count": 5,
      "outputs": [
        {
          "output_type": "stream",
          "name": "stdout",
          "text": [
            "0.04987476379384733\n"
          ]
        }
      ]
    },
    {
      "cell_type": "code",
      "source": [
        "# since we dont know standard deciation we use t_score\n",
        "t_score = stats.t.ppf((1 + confidence_level) / 2, df)\n",
        "t_score"
      ],
      "metadata": {
        "colab": {
          "base_uri": "https://localhost:8080/"
        },
        "id": "VwdhdYoXj9xb",
        "outputId": "58353ddc-52c7-44bf-fd94-299fd47d3dcb"
      },
      "execution_count": 6,
      "outputs": [
        {
          "output_type": "execute_result",
          "data": {
            "text/plain": [
              "np.float64(2.976842734370834)"
            ]
          },
          "metadata": {},
          "execution_count": 6
        }
      ]
    },
    {
      "cell_type": "code",
      "source": [
        "# confidence Interval\n",
        "confident = stats.t.interval(confidence_level,df,loc=mean, scale=standard_error)\n",
        "confident"
      ],
      "metadata": {
        "colab": {
          "base_uri": "https://localhost:8080/"
        },
        "id": "U3J_Bcegj_g7",
        "outputId": "89a5bfb2-7b95-43d2-8ae8-6b089a2fdd8a"
      },
      "execution_count": 7,
      "outputs": [
        {
          "output_type": "execute_result",
          "data": {
            "text/plain": [
              "(np.float64(1.0901973384384906), np.float64(1.3871359948948425))"
            ]
          },
          "metadata": {},
          "execution_count": 7
        }
      ]
    },
    {
      "cell_type": "markdown",
      "source": [
        "**conclusion**\n",
        "The 99% confidence interval for the mean durability of the print-heads is between 1.09 million and 1.39 million characters. I have used t-distribution because the sample size is small (15 data points) and the population standard deviation is unknown. The t-distribution accounts for the increased variability in small samples, providing a more accurate estimate of the population mean."
      ],
      "metadata": {
        "id": "09HLeqjlkTnC"
      }
    },
    {
      "cell_type": "markdown",
      "source": [
        "**Assignment Task** = B. 99% Confidence Interval Using Known Population Standard Deviation\n"
      ],
      "metadata": {
        "id": "PUKjJbhhkeHD"
      }
    },
    {
      "cell_type": "code",
      "source": [
        "from scipy import stats\n",
        "import numpy as np"
      ],
      "metadata": {
        "id": "eAIcSnUUkFZz"
      },
      "execution_count": 9,
      "outputs": []
    },
    {
      "cell_type": "code",
      "source": [
        "# since we know standard deciation = 0.2 we use z_score\n",
        "z_score = stats.norm.ppf((1 + confidence_level) / 2)\n",
        "z_score"
      ],
      "metadata": {
        "colab": {
          "base_uri": "https://localhost:8080/"
        },
        "id": "9hZyfhTZlOEJ",
        "outputId": "baef47a7-a6ed-4337-95e0-af2aee3d5cdc"
      },
      "execution_count": 10,
      "outputs": [
        {
          "output_type": "execute_result",
          "data": {
            "text/plain": [
              "np.float64(2.5758293035489004)"
            ]
          },
          "metadata": {},
          "execution_count": 10
        }
      ]
    },
    {
      "cell_type": "code",
      "source": [
        "# confidence Interval\n",
        "confident = stats.norm.interval(confidence_level,loc=mean, scale=0.2)\n",
        "confident"
      ],
      "metadata": {
        "colab": {
          "base_uri": "https://localhost:8080/"
        },
        "id": "fJ-QuZ0blPNl",
        "outputId": "daf48ef9-84ca-48eb-9b3e-2b261d1cbfb0"
      },
      "execution_count": 11,
      "outputs": [
        {
          "output_type": "execute_result",
          "data": {
            "text/plain": [
              "(np.float64(0.7235008059568865), np.float64(1.7538325273764466))"
            ]
          },
          "metadata": {},
          "execution_count": 11
        }
      ]
    },
    {
      "cell_type": "markdown",
      "source": [
        "**conclusion**\n",
        "The 99% confidence interval for the mean durability of the print-heads is between 0.72 million and 1.75 million characters. I have used the normal distribution because the population standard deviation (0.2 million characters) is known. The normal distribution is appropriate when the population standard deviation is known and the sample size is relatively small, providing a reliable estimate for the population mean within the given confidence level."
      ],
      "metadata": {
        "id": "6nXt_ykvlVpp"
      }
    }
  ]
}